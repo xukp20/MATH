{
 "cells": [
  {
   "cell_type": "code",
   "execution_count": 1,
   "metadata": {},
   "outputs": [
    {
     "name": "stdout",
     "output_type": "stream",
     "text": [
      "HF_HOME: /data/cache/huggingface\n",
      "Loading LLaMa 65b\n"
     ]
    },
    {
     "data": {
      "application/vnd.jupyter.widget-view+json": {
       "model_id": "6dc944546cb940bb87baca4af58e52d3",
       "version_major": 2,
       "version_minor": 0
      },
      "text/plain": [
       "Loading checkpoint shards:   0%|          | 0/14 [00:00<?, ?it/s]"
      ]
     },
     "metadata": {},
     "output_type": "display_data"
    }
   ],
   "source": [
    "# load model\n",
    "import os\n",
    "os.environ[\"HF_HOME\"] = \"/data/cache/huggingface\"\n",
    "# check env\n",
    "print('HF_HOME: {}'.format(os.environ[\"HF_HOME\"]))\n",
    "\n",
    "import guidance\n",
    "import torch\n",
    "\n",
    "MODEL = 'huggyllama/llama-65b'\n",
    "# use LLaMa 65b\n",
    "print('Loading LLaMa 65b')\n",
    "guidance.llm = guidance.llms.transformers.LLaMA(MODEL, device_map=\"auto\", token_healing=True, torch_dtype=torch.bfloat16)"
   ]
  },
  {
   "cell_type": "code",
   "execution_count": 14,
   "metadata": {},
   "outputs": [],
   "source": [
    "EXAMPLES = [{\n",
    "    \"problem\": \"Find the domain of the expression $\\\\frac{\\sqrt{x-2}}{\\sqrt{5-x}}$.}\",\n",
    "    \"solution\": \"\"\"The expressions inside each square root must be non-negative. Therefore,\n",
    "$x-2 \\ge 0$, so $x\\ge2$, and $5 - x \\ge 0$, so $x \\le 5$. Also, the denominator\n",
    "cannot be equal to zero, so $5-x>0$, which gives $x<5$. Therefore, the domain of\n",
    "the expression is $\\\\boxed{[2,5)}$.\"\"\",\n",
    "    \"description\": \"\",\n",
    "    \"answer\": \"[2,5)\",\n",
    "}]\n",
    "\n",
    "INSTRUCTION_W_DESC = \"\"\"\n",
    "### Instruction:\n",
    "You are a top-notch mathematician. Your task is to provide the solution of the given problem, with the final answer boxed by \\\\boxed{}.\n",
    "Some tasks have a description of the picture to help you understand the problem if \"Description\" is not empty.\n",
    "----\n",
    "\n",
    "\"\"\"\n",
    "\n",
    "INSTRUCTION_WO_DESC = \"\"\"\n",
    "### Instruction:\n",
    "You are a top-notch mathematician. Your task is to provide the solution of the given problem, with the final answer boxed by \\\\boxed{}.\n",
    "----\n",
    "\n",
    "\"\"\"\n",
    "\n",
    "PATTERN_W_DESC = INSTRUCTION_W_DESC + \"\"\"\n",
    "{{~! display the few-shot examples ~}}\n",
    "{{~#each examples}}\n",
    "### Input:\n",
    "Problem: {{this.problem}}\n",
    "Description: {{this.description}}\n",
    "\n",
    "### Response:\n",
    "Solution: {{this.solution}}\n",
    "Answer: {{this.answer}}\n",
    "---\n",
    "{{~/each}}\n",
    "\n",
    "{{~! place the real question at the end }}\n",
    "### Input:\n",
    "Problem: {{problem}}\n",
    "Description: {{description}}\n",
    "\n",
    "### Response:\n",
    "Solution: {{gen \"solution\" temperature=0. max_tokens=400 stop='Answer'}}\n",
    "Answer: {{gen \"answer\" temperature=0. max_tokens=50 stop='\\n'}}\n",
    "\"\"\"\n",
    "\n",
    "PATTERN_WO_DESC = INSTRUCTION_WO_DESC + \"\"\"\n",
    "{{~! display the few-shot examples ~}}\n",
    "{{~#each examples}}\n",
    "### Input:\n",
    "Problem: {{this.problem}}\n",
    "\n",
    "### Response:\n",
    "Solution: {{this.solution}}\n",
    "Answer: {{this.answer}}\n",
    "---\n",
    "{{~/each}}\n",
    "\n",
    "{{~! place the real question at the end }}\n",
    "### Input:\n",
    "Problem: {{problem}}\n",
    "\n",
    "### Response:\n",
    "Solution: {{gen \"solution\" temperature=0. max_tokens=400 stop='Answer'}}\n",
    "Answer: {{gen \"answer\" temperature=0. max_tokens=50 stop='\\n'}}\n",
    "\"\"\""
   ]
  },
  {
   "cell_type": "code",
   "execution_count": 15,
   "metadata": {},
   "outputs": [
    {
     "data": {
      "text/html": [
       "<div id=\"guidance-stop-button-bf766aee-81d9-4943-aff6-0211dd15de59\" style=\"cursor: pointer; margin: 0px; display: none; float: right; padding: 3px; border-radius: 4px 4px 4px 4px; border: 0px solid rgba(127, 127, 127, 1); padding-left: 10px; padding-right: 10px; font-size: 13px; background-color: rgba(127, 127, 127, 0.25);\">Stop program</div><div id=\"guidance-content-bf766aee-81d9-4943-aff6-0211dd15de59\"><pre style='margin: 0px; padding: 0px; padding-left: 8px; margin-left: -8px; border-radius: 0px; border-left: 1px solid rgba(127, 127, 127, 0.2); white-space: pre-wrap; font-family: ColfaxAI, Arial; font-size: 15px; line-height: 23px;'> \n",
       "### Instruction:\n",
       "You are a top-notch mathematician. Your task is to provide the solution of the given problem, with the final answer boxed by \\boxed{}.\n",
       "----<span style='opacity: 1.0; display: inline; background-color: rgba(165, 165, 165, 0.1);' title='{{~#each examples}}\n",
       "### Input:\n",
       "Problem: {{this.problem}}\n",
       "\n",
       "### Response:\n",
       "Solution: {{this.solution}}\n",
       "Answer: {{this.answer}}\n",
       "---\n",
       "{{~/each}}'>\n",
       "### Input:\n",
       "Problem: <span style='background-color: rgba(0, 138.56128016, 250.76166089, 0.25); display: inline;' title='{{this.problem}}'>Find the domain of the expression $\\frac{\\sqrt{x-2}}{\\sqrt{5-x}}$.}</span>\n",
       "\n",
       "### Response:\n",
       "Solution: <span style='background-color: rgba(0, 138.56128016, 250.76166089, 0.25); display: inline;' title='{{this.solution}}'>The expressions inside each square root must be non-negative. Therefore,\n",
       "$x-2 \\ge 0$, so $x\\ge2$, and $5 - x \\ge 0$, so $x \\le 5$. Also, the denominator\n",
       "cannot be equal to zero, so $5-x&gt;0$, which gives $x&lt;5$. Therefore, the domain of\n",
       "the expression is $\\boxed{[2,5)}$.</span>\n",
       "Answer: <span style='background-color: rgba(0, 138.56128016, 250.76166089, 0.25); display: inline;' title='{{this.answer}}'>[2,5)</span>\n",
       "---</span>\n",
       "### Input:\n",
       "Problem: <span style='background-color: rgba(0, 138.56128016, 250.76166089, 0.25); display: inline;' title='{{problem}}'>Let \\[f(x) = \\left\\{\n",
       "\\begin{array}{cl} ax+3, &amp;\\text{ if }x&gt;2, \\\\\n",
       "x-5 &amp;\\text{ if } -2 \\le x \\le 2, \\\\\n",
       "2x-b &amp;\\text{ if } x &lt;-2.\n",
       "\\end{array}\n",
       "\\right.\\]Find $a+b$ if the piecewise function is continuous (which means that its graph can be drawn without lifting your pencil from the paper).</span>\n",
       "\n",
       "### Response:\n",
       "Solution: <span style='background-color: rgba(0, 165, 0, 0.25); opacity: 1.0; display: inline;' title='{{gen &quot;solution&quot; temperature=0. max_tokens=400 stop=&#x27;Answer&#x27;}}'>The function is continuous if the left and right limits at $x=2$ and $x=-2$ are equal to the function values at these points.\n",
       "\n",
       "At $x=2$, the left limit is $2a+3$ and the right limit is $a+3$. Therefore, $2a+3=a+3$, so $a=0$.\n",
       "\n",
       "At $x=-2$, the left limit is $-2b+3$ and the right limit is $2b-2$. Therefore, $-2b+3=2b-2$, so $b=1$.\n",
       "\n",
       "Therefore, $a+b=0+1=1$.\n",
       "</span>\n",
       "Answer: <span style='background-color: rgba(0, 165, 0, 0.25); opacity: 1.0; display: inline;' title='{{gen &quot;answer&quot; temperature=0. max_tokens=50 stop=&#x27;\n",
       "&#x27;}}'>1</span>\n",
       " </pre></div>\n",
       "<script type=\"text/javascript\">(()=>{var t={296:(t,e,n)=>{var i=NaN,o=\"[object Symbol]\",r=/^\\s+|\\s+$/g,a=/^[-+]0x[0-9a-f]+$/i,s=/^0b[01]+$/i,c=/^0o[0-7]+$/i,d=parseInt,u=\"object\"==typeof n.g&&n.g&&n.g.Object===Object&&n.g,l=\"object\"==typeof self&&self&&self.Object===Object&&self,f=u||l||Function(\"return this\")(),h=Object.prototype.toString,p=Math.max,m=Math.min,g=function(){return f.Date.now()};function b(t){var e=typeof t;return!!t&&(\"object\"==e||\"function\"==e)}function y(t){if(\"number\"==typeof t)return t;if(function(t){return\"symbol\"==typeof t||function(t){return!!t&&\"object\"==typeof t}(t)&&h.call(t)==o}(t))return i;if(b(t)){var e=\"function\"==typeof t.valueOf?t.valueOf():t;t=b(e)?e+\"\":e}if(\"string\"!=typeof t)return 0===t?t:+t;t=t.replace(r,\"\");var n=s.test(t);return n||c.test(t)?d(t.slice(2),n?2:8):a.test(t)?i:+t}t.exports=function(t,e,n){var i,o,r,a,s,c,d=0,u=!1,l=!1,f=!0;if(\"function\"!=typeof t)throw new TypeError(\"Expected a function\");function h(e){var n=i,r=o;return i=o=void 0,d=e,a=t.apply(r,n)}function v(t){var n=t-c;return void 0===c||n>=e||n<0||l&&t-d>=r}function _(){var t=g();if(v(t))return w(t);s=setTimeout(_,function(t){var n=e-(t-c);return l?m(n,r-(t-d)):n}(t))}function w(t){return s=void 0,f&&i?h(t):(i=o=void 0,a)}function j(){var t=g(),n=v(t);if(i=arguments,o=this,c=t,n){if(void 0===s)return function(t){return d=t,s=setTimeout(_,e),u?h(t):a}(c);if(l)return s=setTimeout(_,e),h(c)}return void 0===s&&(s=setTimeout(_,e)),a}return e=y(e)||0,b(n)&&(u=!!n.leading,r=(l=\"maxWait\"in n)?p(y(n.maxWait)||0,e):r,f=\"trailing\"in n?!!n.trailing:f),j.cancel=function(){void 0!==s&&clearTimeout(s),d=0,i=c=o=s=void 0},j.flush=function(){return void 0===s?a:w(g())},j}},777:t=>{var e,n,i=Math.max,o=(e=function(t,e){return function(t,e,n){if(\"function\"!=typeof t)throw new TypeError(\"Expected a function\");return setTimeout((function(){t.apply(void 0,n)}),1)}(t,0,e)},n=i(void 0===n?e.length-1:n,0),function(){for(var t=arguments,o=-1,r=i(t.length-n,0),a=Array(r);++o<r;)a[o]=t[n+o];o=-1;for(var s=Array(n+1);++o<n;)s[o]=t[o];return s[n]=a,function(t,e,n){switch(n.length){case 0:return t.call(e);case 1:return t.call(e,n[0]);case 2:return t.call(e,n[0],n[1]);case 3:return t.call(e,n[0],n[1],n[2])}return t.apply(e,n)}(e,this,s)});t.exports=o}},e={};function n(i){var o=e[i];if(void 0!==o)return o.exports;var r=e[i]={exports:{}};return t[i](r,r.exports,n),r.exports}n.n=t=>{var e=t&&t.__esModule?()=>t.default:()=>t;return n.d(e,{a:e}),e},n.d=(t,e)=>{for(var i in e)n.o(e,i)&&!n.o(t,i)&&Object.defineProperty(t,i,{enumerable:!0,get:e[i]})},n.g=function(){if(\"object\"==typeof globalThis)return globalThis;try{return this||new Function(\"return this\")()}catch(t){if(\"object\"==typeof window)return window}}(),n.o=(t,e)=>Object.prototype.hasOwnProperty.call(t,e),(()=>{\"use strict\";const t=t=>{const e=new Set;do{for(const n of Reflect.ownKeys(t))e.add([t,n])}while((t=Reflect.getPrototypeOf(t))&&t!==Object.prototype);return e};function e(e,{include:n,exclude:i}={}){const o=t=>{const e=e=>\"string\"==typeof e?t===e:e.test(t);return n?n.some(e):!i||!i.some(e)};for(const[n,i]of t(e.constructor.prototype)){if(\"constructor\"===i||!o(i))continue;const t=Reflect.getOwnPropertyDescriptor(n,i);t&&\"function\"==typeof t.value&&(e[i]=e[i].bind(e))}return e}var i=n(777),o=n.n(i),r=n(296),a=n.n(r);class s{constructor(t,n){e(this),this.interfaceId=t,this.callbackMap={},this.data={},this.pendingData={},this.jcomm=new c(\"guidance_interface_target_\"+this.interfaceId,this.updateData,\"open\"),this.debouncedSendPendingData500=a()(this.sendPendingData,500),this.debouncedSendPendingData1000=a()(this.sendPendingData,1e3),n&&o()(n)}send(t,e){this.addPendingData(t,e),this.sendPendingData()}sendEvent(t){for(const e of Object.keys(t))this.addPendingData(e,t[e]);this.sendPendingData()}debouncedSendEvent500(t){for(const e of Object.keys(t))this.addPendingData(e,t[e]);this.debouncedSendPendingData500()}debouncedSend500(t,e){this.addPendingData(t,e),this.debouncedSendPendingData500()}debouncedSend1000(t,e){this.addPendingData(t,e),this.debouncedSendPendingData1000()}addPendingData(t,e){Array.isArray(t)||(t=[t]);for(const n in t)this.pendingData[t[n]]=e}updateData(t){t=JSON.parse(t.data);for(const e in t)this.data[e]=t[e];for(const e in t)e in this.callbackMap&&this.callbackMap[e](this.data[e])}subscribe(t,e){this.callbackMap[t]=e,o()((e=>this.callbackMap[t](this.data[t])))}sendPendingData(){this.jcomm.send_data(this.pendingData),this.pendingData={}}}class c{constructor(t,e,n=\"open\"){this._fire_callback=this._fire_callback.bind(this),this._register=this._register.bind(this),this.jcomm=void 0,this.callback=e,void 0!==window.Jupyter?\"register\"===n?Jupyter.notebook.kernel.comm_manager.register_target(t,this._register):(this.jcomm=Jupyter.notebook.kernel.comm_manager.new_comm(t),this.jcomm.on_msg(this._fire_callback)):void 0!==window._mgr&&(\"register\"===n?window._mgr.widgetManager.proxyKernel.registerCommTarget(t,this._register):(this.jcomm=window._mgr.widgetManager.proxyKernel.createComm(t),this.jcomm.open({},\"\"),this.jcomm.onMsg=this._fire_callback))}send_data(t){void 0!==this.jcomm?this.jcomm.send(t):console.error(\"Jupyter comm module not yet loaded! So we can't send the message.\")}_register(t,e){this.jcomm=t,this.jcomm.on_msg(this._fire_callback)}_fire_callback(t){this.callback(t.content.data)}}class d{constructor(t,n){e(this),this.id=t,this.comm=new s(t),this.comm.subscribe(\"append\",this.appendData),this.comm.subscribe(\"replace\",this.replaceData),this.comm.subscribe(\"event\",this.eventOccurred),this.element=document.getElementById(\"guidance-content-\"+t),this.stop_button=document.getElementById(\"guidance-stop-button-\"+t),this.stop_button.onclick=()=>this.comm.send(\"event\",\"stop\")}appendData(t){t&&(this.stop_button.style.display=\"inline-block\",this.element.innerHTML+=t)}replaceData(t){t&&(this.stop_button.style.display=\"inline-block\",this.element.innerHTML=t)}eventOccurred(t){\"complete\"===t&&(this.stop_button.style.display=\"none\")}}window._guidanceDisplay=function(t,e){return new d(t,e)}})()})();; window._guidanceDisplay(\"bf766aee-81d9-4943-aff6-0211dd15de59\");</script>"
      ]
     },
     "metadata": {},
     "output_type": "display_data"
    },
    {
     "name": "stdout",
     "output_type": "stream",
     "text": [
      "1\n"
     ]
    }
   ],
   "source": [
    "# we can pre-define valid option sets\n",
    "valid_judgement = [\"True\", \"False\", \"Unknown\"]\n",
    "\n",
    "# program\n",
    "program = guidance(PATTERN_WO_DESC)\n",
    "\n",
    "\n",
    "# try once\n",
    "try: \n",
    "    out = program(\n",
    "        examples=EXAMPLES,\n",
    "        problem=\"Let \\\\[f(x) = \\\\left\\\\{\\n\\\\begin{array}{cl} ax+3, &\\\\text{ if }x>2, \\\\\\\\\\nx-5 &\\\\text{ if } -2 \\\\le x \\\\le 2, \\\\\\\\\\n2x-b &\\\\text{ if } x <-2.\\n\\\\end{array}\\n\\\\right.\\\\]Find $a+b$ if the piecewise function is continuous (which means that its graph can be drawn without lifting your pencil from the paper).\",\n",
    "        description=\"\",\n",
    "    )\n",
    "except Exception as e:\n",
    "    print(e)\n",
    "\n",
    "print(out['answer'])"
   ]
  }
 ],
 "metadata": {
  "kernelspec": {
   "display_name": "base",
   "language": "python",
   "name": "python3"
  },
  "language_info": {
   "codemirror_mode": {
    "name": "ipython",
    "version": 3
   },
   "file_extension": ".py",
   "mimetype": "text/x-python",
   "name": "python",
   "nbconvert_exporter": "python",
   "pygments_lexer": "ipython3",
   "version": "3.10.9"
  },
  "orig_nbformat": 4
 },
 "nbformat": 4,
 "nbformat_minor": 2
}
