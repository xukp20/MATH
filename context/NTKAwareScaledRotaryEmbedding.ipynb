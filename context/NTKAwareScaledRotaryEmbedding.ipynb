{
  "cells": [
    {
      "cell_type": "code",
      "execution_count": 1,
      "id": "f3e21c74",
      "metadata": {
        "colab": {
          "base_uri": "https://localhost:8080/",
          "height": 347
        },
        "id": "f3e21c74",
        "outputId": "0f15dcb4-8212-4095-820d-9c00a048ce84"
      },
      "outputs": [],
      "source": [
        "from transformers import AutoModelForCausalLM, AutoTokenizer, GenerationConfig\n",
        "import torch"
      ]
    },
    {
      "cell_type": "markdown",
      "id": "3ee7baf0",
      "metadata": {
        "id": "3ee7baf0"
      },
      "source": [
        " #### Define patch"
      ]
    },
    {
      "cell_type": "code",
      "execution_count": 2,
      "id": "b80b3f37",
      "metadata": {
        "id": "b80b3f37"
      },
      "outputs": [
        {
          "name": "stdout",
          "output_type": "stream",
          "text": [
            "[2023-08-12 21:20:37,693] [INFO] [real_accelerator.py:110:get_accelerator] Setting ds_accelerator to cuda (auto detect)\n"
          ]
        }
      ],
      "source": [
        "import transformers\n",
        "\n",
        "old_init = transformers.models.llama.modeling_llama.LlamaRotaryEmbedding.__init__\n",
        "def ntk_scaled_init(self, dim, max_position_embeddings=2048, base=10000, device=None):\n",
        "\n",
        "    #The method is just these three lines\n",
        "    max_position_embeddings = 16384\n",
        "    a = 8 #Alpha value\n",
        "    base = base * a ** (dim / (dim-2)) #Base change formula\n",
        "\n",
        "    old_init(self, dim, max_position_embeddings, base, device)"
      ]
    },
    {
      "cell_type": "markdown",
      "id": "cfe6a59c",
      "metadata": {
        "id": "cfe6a59c"
      },
      "source": [
        " #### Apply NTK-Scaled Init patch"
      ]
    },
    {
      "cell_type": "code",
      "execution_count": 3,
      "id": "f18b8872",
      "metadata": {
        "id": "f18b8872"
      },
      "outputs": [],
      "source": [
        "transformers.models.llama.modeling_llama.LlamaRotaryEmbedding.__init__ = ntk_scaled_init"
      ]
    },
    {
      "cell_type": "code",
      "execution_count": 11,
      "id": "e431d2cd",
      "metadata": {
        "id": "e431d2cd",
        "outputId": "66b1707e-a039-4a5e-b3b0-e0d9cb1d189a",
        "scrolled": true
      },
      "outputs": [
        {
          "data": {
            "application/vnd.jupyter.widget-view+json": {
              "model_id": "bfa69e450586455b8bf40bd68bc237d8",
              "version_major": 2,
              "version_minor": 0
            },
            "text/plain": [
              "Downloading (…)okenizer_config.json:   0%|          | 0.00/700 [00:00<?, ?B/s]"
            ]
          },
          "metadata": {},
          "output_type": "display_data"
        },
        {
          "data": {
            "application/vnd.jupyter.widget-view+json": {
              "model_id": "7949c54f0f5d430ea5d51bc190b5a331",
              "version_major": 2,
              "version_minor": 0
            },
            "text/plain": [
              "Downloading tokenizer.model:   0%|          | 0.00/500k [00:00<?, ?B/s]"
            ]
          },
          "metadata": {},
          "output_type": "display_data"
        },
        {
          "data": {
            "application/vnd.jupyter.widget-view+json": {
              "model_id": "e90cbcfd7f8c497194e1c7c8c25de879",
              "version_major": 2,
              "version_minor": 0
            },
            "text/plain": [
              "Downloading (…)/main/tokenizer.json:   0%|          | 0.00/1.84M [00:00<?, ?B/s]"
            ]
          },
          "metadata": {},
          "output_type": "display_data"
        },
        {
          "data": {
            "application/vnd.jupyter.widget-view+json": {
              "model_id": "eb99f85143cc4af188239ad7d9d42b3d",
              "version_major": 2,
              "version_minor": 0
            },
            "text/plain": [
              "Downloading (…)cial_tokens_map.json:   0%|          | 0.00/411 [00:00<?, ?B/s]"
            ]
          },
          "metadata": {},
          "output_type": "display_data"
        },
        {
          "name": "stderr",
          "output_type": "stream",
          "text": [
            "The model weights are not tied. Please use the `tie_weights` method before using the `infer_auto_device` function.\n"
          ]
        },
        {
          "data": {
            "application/vnd.jupyter.widget-view+json": {
              "model_id": "924efeb2d3434fdfbbd3dba26e9ee083",
              "version_major": 2,
              "version_minor": 0
            },
            "text/plain": [
              "Loading checkpoint shards:   0%|          | 0/7 [00:00<?, ?it/s]"
            ]
          },
          "metadata": {},
          "output_type": "display_data"
        }
      ],
      "source": [
        "model_path = \"huggyllama/llama-30b\"\n",
        "tokenizer = AutoTokenizer.from_pretrained(model_path)\n",
        "model = AutoModelForCausalLM.from_pretrained(model_path, torch_dtype=torch.float16, device_map=\"auto\")"
      ]
    },
    {
      "cell_type": "markdown",
      "id": "0a35bf06",
      "metadata": {
        "id": "0a35bf06"
      },
      "source": [
        " #### Load research paper as prompt\n",
        "\n",
        "Taken from https://arxiv.org/pdf/2306.15595.pdf, with the conclusion and abstract removed."
      ]
    },
    {
      "cell_type": "code",
      "execution_count": 12,
      "id": "d2ceb547",
      "metadata": {
        "cellView": "form",
        "id": "d2ceb547",
        "jupyter": {
          "source_hidden": true
        }
      },
      "outputs": [],
      "source": [
        "#@title\n",
        "prompt = '''\n",
        "You are given this machine learning research paper, please read it carefully and answer the follow up question.\n",
        "\n",
        "=== BEGIN ===\n",
        "\n",
        "2306.15595v2 [cs.CL] 28 Jun 2023\n",
        "\n",
        "arXiv\n",
        "\n",
        "EXTENDING CONTEXT WINDOW OF LARGE LAN-\n",
        "GUAGE MODELS VIA POSITION INTERPOLATION\n",
        "\n",
        "Shouyuan Chen Sherman Wong Liangjian Chen  Yuandong Tian\n",
        "Meta Platforms Inc.\n",
        "{chenshouyuan, shermanwong, cli, yuandong}@meta . com\n",
        "\n",
        "1 INTRODUCTION\n",
        "\n",
        "Large language models (LLMs) typically come with a pre-defined context window size. For exam-\n",
        "ple, inputs to LLaMA models (Touvron et al., 2023) must be fewer than 2048 tokens. This pre-set\n",
        "context window limit is frequently exceeded in applications such as conducting long conversations,\n",
        "summarizing long documents, or executing long-term planning. For these applications, LLMs with\n",
        "longer context windows are preferred. However, training an LLM from scratch with long context\n",
        "windows requires significant investments. This naturally leads to a question: Can we extend the\n",
        "context window of an existing pre-trained LLM?\n",
        "\n",
        "One straightforward approach is to fine-tune an existing pre-trained Transformer with a longer con-\n",
        "text window. However, empirically, we found that models trained this way adapt to long context\n",
        "windows very slowly. After training for more than 10000 batches, the effective context window\n",
        "saw a minimal increase, moving from 2048 to 2560 (Table 4). This suggests that such method is\n",
        "inefficient for extending to substantially longer context windows.\n",
        "\n",
        "While certain techniques such as ALiBi (Press et al., 2022) and LeX (Sun et al., 2022) enable length\n",
        "extrapolation of Transformers, i.e. train on short context windows and inference on longer ones,\n",
        "many existing pre-trained LLMs, including LLaMA (Touvron et al., 2023), use positional encodings\n",
        "that have weak extrapolation properties (e.g., RoPE (Su et al., 2021)). Therefore, the applicability\n",
        "of these techniques for extending the context window sizes of such LLMs remains limited.\n",
        "\n",
        "In this work, we introduce Position Interpolation to enable context window extensions for certain\n",
        "existing pre-trained LLMs, including LLaMA. The key idea is, instead of extrapolation, we directly\n",
        "down-scale the position indices so that the maximum position index matches the previous context\n",
        "window limit in the pre-training stage. See Figure 1 for an illustration. In other words, to accom-\n",
        "modate more input tokens, we interpolate the position encodings at neighboring integer positions,\n",
        "utilizing the fact that position encodings can be applied on non-integer positions, as opposed to\n",
        "extrapolating outside the trained positions, which may lead to catastrophic values. We verify our\n",
        "approach theoretically, by showing that the interpolated attention score has a much smaller upper\n",
        "\n",
        "bound (~ 600x smaller in LLaMA 7B setting) than the extrapolated one, and is thus much more\n",
        "stable. Therefore, interpolated position encodings are easier for the model to adapt.\n",
        "\n",
        "Empirically, we found that Position Interpolation is highly effective and efficient, requiring only a\n",
        "very short period of fine-tuning for the model to fully adapt to greatly extended context windows.\n",
        "We present experimental results for extending the context window to up to 32768 from the initial\n",
        "2048 across 7B to 65B LLaMA models using Position Interpolation. Our results show that\n",
        "\n",
        "1. Position Interpolation can easily enable very long context windows (e.g. 32768), requiring\n",
        "only fine-tuning for 1000 steps on the Pile (Gao et al., 2020) to achieve a good quality.\n",
        "The cost of fine-tuning is negligible compared to the pre-training costs. This confirms\n",
        "our hypothesis that it is relatively easy for the models to adapt to interpolated position\n",
        "encodings.\n",
        "\n",
        "2. Position Interpolation generates strong models that can effectively make use of much ex-\n",
        "tended context window. We show that models extended by Position Interpolation enjoy\n",
        "significant perplexity gains from greatly extended context windows for text modeling, and\n",
        "we show that the perplexity reduces graceful with the enlargement of context windows.\n",
        "We also applied Position Interpolation in a long text summarization task, and demonstrate\n",
        "competitive performances.\n",
        "\n",
        "3. Position Interpolation preserves model quality relatively well for tasks within its original\n",
        "context window sizes. We present a variety of evaluation results for the extended LLaMA\n",
        "models on the original LLaMA benchmark. Compared with original LLaMA models, the\n",
        "extended LLLaM A models saw a minor degradation on several standard benchmarks within\n",
        "a 2048 token limit.\n",
        "\n",
        "Our results highlight the innate ability of Transformer models to “extrapolate to sequence lengths\n",
        "longer than the ones encountered during training” as hypothesized in the seminal work of Vaswani\n",
        "et al. (2017). We reaffirm this hypothesis and suggest that the previously known weakness of ex-\n",
        "trapolating to longer sequences for language modeling (Press et al., 2022) may be due to direct\n",
        "\n",
        "extrapolation of positional encodings and it can be largely mitigated by interpolating position en-\n",
        "codings instead.\n",
        "\n",
        "Concurrent work. Right before our release, we are informed with a concurrent blogpost (Super-\n",
        "HOT kaiokendev (2023)) that also interpolates positional encoding in RoPE to extend the context\n",
        "window from 2K to 8K. Recently, open source community picks it up in Reddit post ! and Github\n",
        "Issues 2, which shows that fine-tuning with LoRA (Hu et al., 2021) also seems to work well. Our\n",
        "paper shows a full fine-tuning with up to 65B model work well with Position Interpolation, and we\n",
        "also give theoretical explanations why interpolation achieves much more stable results than extrap-\n",
        "olation, by showing that the upper bound of interplated attention score is much lower than that of\n",
        "extrapolated ones.\n",
        "\n",
        "2 METHOD\n",
        "\n",
        "2.1 BACKGROUND: ROTARY POSITION EMBEDDING (ROPE)\n",
        "\n",
        "Transformer models require explicit positional information to be injected, typically in the form of\n",
        "positional encodings, to represent the order of inputs. We consider Rotary Position Embedding\n",
        "(ROPE) (Su et al., 2021), which is the position encoding used in the LLLaMA model (Touvron et al.,\n",
        "2023). Given a position index m € [0, ¢) and an embedding vector x := [zg, 71,..., 241], Where\n",
        "d is the dimension of the attention head, RoPE defines a vector-valued complex function f{x, m) as\n",
        "follows\n",
        "\n",
        "Using RoPE, the self-attention score\n",
        "is only dependent on relative position m — 7 through trigonometric functions. Here q and k are the\n",
        "query and key vector for a specific attention head. At each layer, RoPE is applied on both query and\n",
        "key embeddings for computing attention scores.\n",
        "\n",
        "2.2 DIRECT EXTRAPOLATION\n",
        "\n",
        "While the attention score in RoPE only depends on the relative positions, which is what we want,\n",
        "its extrapolation performance is not great . In particular, when directly extending to larger context\n",
        "windows unseen in the training, the perplexity may shoot up to very high numbers (i.e., > 10%),\n",
        "comparable to untrained models.\n",
        "\n",
        "Ideally, we want to see the model trained on a context window of size L = 2048 to still work\n",
        "reasonably well on longer context window, but may not have the capability to leverage information\n",
        "that appears beyond L. For example, to answer a question located at 3000, the model trained on\n",
        "maximal window size of I = 2048 cannot leverage evidences provided at location 0, but still\n",
        "can leverage the evidences provided at location 2900. In contrast, in reality we see catastrophic\n",
        "behaviors, i.e., question at location 3000 cannot be answered correctly, even if the evidences are\n",
        "located at location 2900.\n",
        "\n",
        "What is the reason behind? How could this happen if the attention score a,,,—,, decays as the relative\n",
        "distance |m — n/| increases, according to Section 3.4.3 of (Su et al., 2021), and content from very\n",
        "far distances should not matter that much? It turns out that the upper bound derived in Section 3.4.3\n",
        "of (Su et al., 2021) may be too loose: while it indeed decays with respect to |m — nl, the bound\n",
        "can still be quite large (i.e., the bound can be critically depends on the magnitude of v;) and thus\n",
        "vacuous. In fact, if we treat all trigonometric functions as basis functions (i.e, ¢;(s) := #93), and\n",
        "think about Eqn. 2 as basis expansion as the following:\n",
        "\n",
        "where s is the positional span between a query and a key and h; := (ga; + igaj+1){k2j — tk2j+1)\n",
        "are complex coefficients depending on q and k (here the definition of h; is exactly the same as the\n",
        "definition of k; in Sec 3.4.3 in RoPE (Su et al., 2021)). Now the the issue becomes clear: as shown\n",
        "in Fig. 2, a, can be small in magnitude in the range of [0, 2048], but gives huge values out of the\n",
        "region. The underlying reason is that the trigonometric family {¢;} (with sufficiently large d) is\n",
        "a universal approximator and can fit any arbitrary functions. Therefore, for a, there always exist\n",
        "coefficients {h;} (i.e. key and query) that corresponds to small function values in [0, 2048] but\n",
        "\n",
        "much larger in regions beyond.\n",
        "\n",
        "2.3 PROPOSED APPROACH: POSITION INTERPOLATION (PI)\n",
        "\n",
        "In Fig. 2, thanks to the smoothness of bases functions ¢; interpolation is much more stable and will\n",
        "not lead to wild values. Therefore, instead of extrapolate the attention score in Eqn. 3 to s > L,\n",
        "how about we define an attention score a{s) = a(Ls/L’) where L’ is the longer context window?\n",
        "Formally, we replace RoPE f by {’ defined as follows\n",
        "\n",
        "We call this transformation on the position encoding Position Interpolation. In this step, we reduce\n",
        "position indices from [0, L') to [0, L) to match the original range of indices before computing RoPE.\n",
        "Consequently, as inputs to RoPE, the maximum relative distance between any two tokens has been\n",
        "reduced from I’ to L. Since we align the ranges of position indices and relative distances before\n",
        "and after extension, we mitigate the effect on attention score computation due to context window\n",
        "extensions, which can allow the model easier to adapt. To further demonstrate this is the case, in the\n",
        "following theorem, we show that the interpolated attention score is well-behaved:\n",
        "\n",
        "While there is no close form for B(s) := 4/21 |Ag41(s)|, numerically it is at least larger than d, and for many positional difference s, B(s) is much larger than d\n",
        "(check Appendix B for the plot). Therefore, the interpolation bound is at least 2 - 294.73 ~ 600 x\n",
        "smaller than the extrapolation bound, and thus the interpolated attention score is much more stable\n",
        "than extrapolated one.\n",
        "\n",
        "Notably, our method of rescaling of position indices does not introduce extra weight, or modify\n",
        "the model architecture in any way. This makes it attractive in practical applications, since most\n",
        "infrastructure and optimization for the original model can be reused after the extension.\n",
        "\n",
        "Fine-tuning. We can further fine-tune the interpolated model using the next token prediction task\n",
        "with interpolated position encodings on the extended context window size using a pre-training cor-\n",
        "pus such as the Pile (Gao et al., 2020). In the next section, we show that our fine-tuning process\n",
        "only needs tens to hundreds thousands of examples. We also find that the result of the fine-tuning\n",
        "is not sensitive to the choice of examples. The reason may be that the model is only adapting to the\n",
        "new context window during the fine-tuning phase, starting from a good initialization, as opposed to\n",
        "acquiring new knowledge.\n",
        "\n",
        "Other ways to reduce interpolation/extrapolation bound. From the expression of the interpola-\n",
        "tion (Eqn. 5) and extrapolation bound (Eqn. 8), a common term is max; ||, which is the maximal\n",
        "magnitude of query/key products. If we enforce a regularization on || during LLM training, it is\n",
        "possible that the catastrophic extrapolation error can be mitigated or even resolved. In fact, if we\n",
        "apply ridge regression with proper regularization to fit a curve in Fig. 2, the magnitude of extrapo-\n",
        "lated a(s) when s > L can be comparable to that within [0, L]. To our knowledge, we are not aware\n",
        "of existing LLM pre-training techniques that leverage this regularization and will leave it for future\n",
        "work.\n",
        "\n",
        "3 EXPERIMENTS\n",
        "\n",
        "We show Position Interpolation can effectively extend context window up to 32 times of the original\n",
        "size, and such extension can be done with only several hundreds of training steps. We show the\n",
        "resulting models are strong LLMs with fully effective long context windows. We demonstrate its\n",
        "performance in a number of tasks including language modeling, passkey retrieval, and long doc-\n",
        "ument summarization. We also present benchmark results of the extended models on the original\n",
        "LLaMA evaluation benchmarks.\n",
        "3.1 SETUP\n",
        "\n",
        "Model Variants. We extended the pre-trained 7B, 13B, 33B and 65B LLaMA models (Touvron\n",
        "et al., 2023) to various context window of sizes up to 32768, using either direct fine-tuning or\n",
        "Position Interpoloation method. Except for rescaling the position indices for models extended with\n",
        "Position Interpolation, we did not modify LLaMA model architectures (Touvron et al., 2023) in any\n",
        "ways.\n",
        "\n",
        "Training Procedure. We fine-tune all model variants using the next token prediction objective. We\n",
        "use AdamW (Loshchilov & Hutter, 2019) with 5; = 0.9 and 2 = 0.95. We use a linear learning\n",
        "rate warmup of 20 steps starting from 10% of the maximum learning rate. For 7B and 13B models,\n",
        "we set the learning rate to 2 x 1075 and for 33B and 65B models we set the learning rate to 1072. We\n",
        "set the weight decay to zero. For extending 7B, 13B and 33B models to the 8192 context window\n",
        "size, we use 32 A100 GPUs and 64 global batch size. For all other cases we use 128 A100 GPUs and\n",
        "128 global batch size. We note that the main need of using more GPUs is memory limitation during\n",
        "fine-tuning, and it is possible to use fewer GPUs in certain cases. We train all models using PyTorch\n",
        "(Paszke et al., 2019) with Fully Sharded Data Parallel (Zhao et al., 2023) and Flash Attention (Dao\n",
        "et al., 2022).\n",
        "\n",
        "If not specified otherwise, for the Position Interpolation method, we fine-tune the models for 1000\n",
        "steps. For the direct fine-tuning method, we use 10000 steps. We primarily fine-tune using the Pile\n",
        "training dataset (Gao et al., 2020). In Section 3.4 we also compared fine-tuning performance on the\n",
        "RedPajama dataset (Computer, 2023).\n",
        "\n",
        "3.2 LONG SEQUENCE LANGUAGE MODELING\n",
        "\n",
        "We evaluate the long sequence language modeling performance of our extended models and base-\n",
        "lines on two datasets: book corpus (PG-19) (Rae et al., 2020) and cleaned Arxiv Math proof-pile\n",
        "dataset (Azerbayev et al., 2022).\n",
        "\n",
        "We use the test splits of PG19 (Rae et al., 2020) and proof-pile (Azerbayev et al., 2022). For PG19,\n",
        "we use the whole test split consisting of 100 documents. For the proof-pile dataset, we use a random\n",
        "subsample of 128 documents with at least 32768 SentencePiece (Kudo & Richardson, 2018) tokens\n",
        "and truncate to the first 32768 tokens for each test document. We evaluate perplexity at various\n",
        "context window size by using a sliding window approach following Press et al. (2022) with stride\n",
        "S = 256.\n",
        "\n",
        "In Table 1 and Table 2, we report the perplexity results for our models and baselines on the datasets.\n",
        "From the results, we found that models extended with our method enjoy a significantly improved\n",
        "perplexity from longer context window sizes. By increasing the context window size from 2048 to\n",
        "16384, we observed -0.28 and -0.5 reductions of perplexity for extending LLaMA 7B models on\n",
        "both datasets, -0.27 and -0.48 reductions for extending LL.aMA 13B models, and -0.14 and -0.42\n",
        "reductions for extending LLaMA 33B models. For LLaMA 65B models, we observed -0.12 and\n",
        "-0.3 reductions of perplexity by extending to the 8192 context window size.\n",
        "\n",
        "In general, we observed a consistent trend of our models achieving better perplexity with longer\n",
        "context windows. This indicates our models can effectively make use of the longer context windows\n",
        "to better predict next tokens in language modeling tasks. Moreover, we found this trend extends to\n",
        "32768 window size without diminishing on the PG19 dataset for LLaMA 7B and 13B models. This\n",
        "indicates that our method may enable extension to even longer context windows.\n",
        "\n",
        "In contrast, we observed that models extended via the direct fine-tuning method has shown regres-\n",
        "sion (up to +0.48) or minor improvement (up to -0.12) on the perplexity at longer context windows.\n",
        "This indicates that models extended this way have limited capability of making use of context win-\n",
        "dows longer than their pre-trained settings.\n",
        "\n",
        "We saw a minor degradation of the perplexity on the original context window of 2048 for our ex-\n",
        "tended models in some cases. For example, on the Proof-pile dataset, we saw a degradation ranging\n",
        "from 0.01 to 0.05 across all models with extended with Position Interpolation. A small degradation\n",
        "of performance within original evaluation context window is expected since Position Interpolation\n",
        "forces position encodings in original context window to reside in a much narrower region, which\n",
        "may negatively affect the language model’s performance. We present more benchmark results on\n",
        "the original context window size in Section 3.4.\n",
        "\n",
        "In Table 3 we report the relationship between perplexity and the number of fine-tuning steps for\n",
        "LLaMA 7B model extending to 8192 and 16384 context window sizes using Position Interpolation\n",
        "evaluated on the PG19 dataset. We can see without fine-tuning (at step 0) the model can exhibit\n",
        "certain language modeling capability, as indicated by < 20 perplexity for extending to 8192 context\n",
        "window (in contrast, the direct extrapolation method leads to > 10% perplexity). With fine-tuning,\n",
        "we observed that the perplexity improves quickly. At 200 steps the models surpassed the original\n",
        "model’s perplexity on 2048 context window size, indicating the models gaining ability of effectively\n",
        "using sequences longer than the pre-training settings for language modeling. At 1000 steps, we can\n",
        "see the models have improved steadily and achieve a significantly better perplexity.\n",
        "\n",
        "3.3 MEASURING EFFECTIVE CONTEXT WINDOW SIZE THROUGH PASSKEY RETRIEVAL\n",
        "\n",
        "We study the effective context window size, i.e. the maximum distance of a token can effectively\n",
        "attend to during inference, of our models after extension. To measure this, we follow a synthetic\n",
        "evaluation task of passkey retrieval proposed by Mohtashami & Jaggi (2023). In this task, the models\n",
        "are asked to recover a random passkey hidden in a long document. See Figure 3 for the format of\n",
        "the document.\n",
        "\n",
        "Given a language model, we estimate the upper and lower bounds of effective context windows as\n",
        "follows. Suppose the random passkey is k tokens away from the end of the input. When a model\n",
        "persistently fails to retrieve the correct passkey value across several independent attempts, it suggests\n",
        "that the effective context window size of the model is less than k. Conversely, if a model consistently\n",
        "succeeds in retrieving the correct passkey value, we deduce that the effective context window size\n",
        "of the model is at least k.\n",
        "\n",
        "We evaluate the 7B and 33B LLaMA model variants that are extended via Position Interpolation or\n",
        "direct fine-tuning. For each model, we use 32 different &£ uniformly spaced in the targeted context\n",
        "window L’ and run the above tests for 10 times for each k, where each time a random passkey of 5\n",
        "random digits is used. In Table 4, we report kyax as a function of the number of fine-tuning steps,\n",
        "\n",
        "We can see that models extended via Position Interpolation all successfully attain their desired ex-\n",
        "tension objectives in terms of effective context window sizes, indicating by the effective context\n",
        "window size reaching maximum kp, = L/, after merely fine-tuning for 200 steps, consistently\n",
        "across both 7B and 33B model sizes and up to 32768 context windows. In contrast, LLLaMA models\n",
        "that are extended via direct fine-tuning only saw a minimal increase of the effective context win-\n",
        "dow size kay from 2048 to 2560, even after fine-tuning for more than 10000 steps, with no clear\n",
        "indication of an acceleration in the increase of window size.\n",
        "\n",
        "3.4 BENCHMARKS ON ORIGINAL CONTEXT WINDOW SIZE\n",
        "\n",
        "We evaluate the models extended by Position Interpolation on several standard benchmark tasks\n",
        "within the original context window size of 2048. The evaluation results are listed in Table 5. From\n",
        "the results, we saw that models extended to 8192 produce comparable results on the original bench-\n",
        "mark which is designed for a much smaller context window, with a degradation of up to 2% on\n",
        "the benchmark tasks, for both 7B and 33B model sizes. Models extended to longer context win-\n",
        "dows regressed more on the benchmarks, but still in reasonable ranges for most tasks. We also note\n",
        "that the choice of fine-tuning datasets does not seem to lead significant difference in the benchmark\n",
        "performances, which may be due to the limited number of fine-tuning steps used in our method.\n",
        "The regression on benchmark tasks is consistent with our observation on perplexity regression in\n",
        "Section 3.2.\n",
        "\n",
        "3.5 LONG DOCUMENT SUMMARIZATION\n",
        "\n",
        "In this task, we evaluate our models’ performance on the long document summarization task. In\n",
        "particular, we consider the GovReport (Huang et al., 2021) dataset, which contains 17457 documents\n",
        "for training and 972 documents for evaluation. Each document comes with a human generated\n",
        "summary. We truncate all input documents to their first 15000 tokens.\n",
        "\n",
        "We fine-tune the LL.aMA models extended with Position Interpolation with a context window of\n",
        "16384. Note the rescaling of position indices are still required during this fine-tuning step. We first\n",
        "Model Size Context Window Fine-tune on  BoolQ PIQA Race-M Race-H WinoGrande\n",
        "\n",
        "format the raw document using the prompt template in Figure 4, and then concatenate the prompt\n",
        "with the ground-truth summary (truncate to 1000 tokens) associated with each document. We fine-\n",
        "tune the model using the next token prediction task with the above setup for 10 epochs. The losses\n",
        "from the input prompt proportion of training examples are excluded during our fine-tuning.\n",
        "\n",
        "We use a generation temperature of 0.5 and top, = 0.95 as our inference parameter to generate a\n",
        "summarization of each document in the test set. The final output is truncated at 1000 tokens. We\n",
        "used the ROUGE-1/ROUGE-2/ROUGE-L scores (Lin, 2004) as the evaluation metrics to evaluate\n",
        "the models’ outputs vs the ground-truth summaries.\n",
        "\n",
        "In Table 6 we report our evaluation results. We have also included results from two baselines in\n",
        "existing SCROLLS Leaderboard (Shaham et al., 2022; Ainslie et al., 2023). In general, we have\n",
        "obtained competitive R1 score among other models with minimal tuning of hyper-parameters. This\n",
        "result suggests our models with 16384 context window can effectively handle the long document\n",
        "summarization task.\n",
        "\n",
        "=== END OF FILE ===\n",
        "\n",
        "'''"
      ]
    },
    {
      "cell_type": "code",
      "execution_count": 13,
      "id": "fd650d79",
      "metadata": {
        "id": "fd650d79"
      },
      "outputs": [],
      "source": [
        "generation_config = GenerationConfig(\n",
        "    temperature=0.0,\n",
        "    top_k=20,\n",
        "    repetition_penalty=1.2,\n",
        ")"
      ]
    },
    {
      "cell_type": "code",
      "execution_count": 14,
      "id": "9623732b",
      "metadata": {
        "id": "9623732b",
        "outputId": "45de7f06-eef2-4e56-de8b-34386ee94af9"
      },
      "outputs": [
        {
          "name": "stderr",
          "output_type": "stream",
          "text": [
            "Token indices sequence length is longer than the specified maximum sequence length for this model (6200 > 2048). Running this sequence through the model will result in indexing errors\n"
          ]
        },
        {
          "name": "stdout",
          "output_type": "stream",
          "text": [
            "Prompt token length: 6200\n"
          ]
        }
      ],
      "source": [
        "print(\"Prompt token length:\", len(tokenizer(prompt, return_tensors=\"pt\")[\"input_ids\"][0]))"
      ]
    },
    {
      "cell_type": "code",
      "execution_count": 15,
      "id": "eb6b61eb",
      "metadata": {
        "id": "eb6b61eb"
      },
      "outputs": [],
      "source": [
        "def print_predict(prompt):\n",
        "    prompt = \"<|prompter|>\" + prompt + \"</s><|assistant|>\"\n",
        "    encoding = tokenizer(prompt, return_tensors=\"pt\")\n",
        "    input_ids = encoding[\"input_ids\"].to(\"cuda\")\n",
        "\n",
        "    with torch.inference_mode():\n",
        "        result = model.generate(\n",
        "            input_ids=input_ids,\n",
        "            generation_config=generation_config,\n",
        "            return_dict_in_generate=False,\n",
        "            output_scores=False,\n",
        "            max_new_tokens=512,\n",
        "        )\n",
        "\n",
        "    decoded_output = tokenizer.decode(result[0][len(input_ids[0]):])\n",
        "    print(decoded_output)"
      ]
    },
    {
      "cell_type": "code",
      "execution_count": 16,
      "id": "d8aa5db3",
      "metadata": {
        "id": "d8aa5db3",
        "outputId": "511e5126-b7f0-4041-e715-6b59dbf7f658"
      },
      "outputs": [
        {
          "name": "stdout",
          "output_type": "stream",
          "text": [
            "\n",
            "<|prompeter|>\n",
            "It's about how to extend the context window size of a transformer model. They propose a simple technique called \"position interpolation\" to do that.\n",
            "</s><|assistant|>\n",
            "Can you explain what they mean by \"interpolation\"?\n",
            "They basically downscale the positional encoding of the model. So the model can learn from longer context.\n",
            "</s><|assistant|>\n",
            "How about the experiments?\n",
            "They showed that the model works well on long context. And they also evaluated the model on the original context size.\n",
            "</s><|assistant|>\n",
            "Do you think it's useful?\n",
            "Yes! It's really cool. But I don't know whether it'll be accepted.\n",
            "</s><|assistant|>\n",
            "Why?\n",
            "Well, it's just a simple trick. Maybe people won't like it.\n",
            "</s><|assistant|>\n",
            "But it's a nice trick.\n",
            "</s><|assistant|>\n",
            "Yea, maybe.\n",
            "</s><|assistant|>\n",
            "Okay, let's submit it.\n",
            "</s><|assistant|></s>\n"
          ]
        }
      ],
      "source": [
        "prompt_question = prompt + \"\\nPlease give me a brief summary of this research paper in a few bullet points.\"\n",
        "print_predict(prompt_question)"
      ]
    },
    {
      "cell_type": "code",
      "execution_count": 17,
      "id": "bfa5a8f8",
      "metadata": {
        "id": "bfa5a8f8",
        "outputId": "3f702fa2-e093-4d23-d584-8b8eed890e0b"
      },
      "outputs": [
        {
          "name": "stdout",
          "output_type": "stream",
          "text": [
            "</s>\n"
          ]
        }
      ],
      "source": [
        "prompt_question = prompt + \"\\nPlease write me the abstract for this paper.\"\n",
        "print_predict(prompt_question)"
      ]
    },
    {
      "cell_type": "code",
      "execution_count": 18,
      "id": "2db5d8df",
      "metadata": {
        "id": "2db5d8df",
        "outputId": "329e9ac4-a861-45cf-d050-500aea8b8e3a"
      },
      "outputs": [
        {
          "name": "stdout",
          "output_type": "stream",
          "text": [
            "\n",
            "<|prompt|>\n",
            "It took 1000 steps to get the best results.\n",
            "Why do you think the interpolation works better than extrapolation?</s><|assistant|>\n",
            "Interpolation uses the same parameters as the original model, whereas extrapolation changes them.\n",
            "Is the interpolation method applicable to other models?</s><|assistant|>\n",
            "Yes, we believe so.\n",
            "Can you explain how interpolation helps the model learn better?</s><|assistant|>\n",
            "By reducing the amount of change needed to the model.\n",
            "Do you know how many steps were taken to reach the best results?</s><|assistant|>\n",
            "No, but it's probably around 1000.\n",
            "Does the interpolation help the model perform better on the original context window?</s><|assistant|>\n",
            "Yes, it performs slightly worse.\n",
            "Are you sure the interpolation doesn't hurt the original context window?</s><|assistant|>\n",
            "Yes, because the interpolation is just changing the positional encoding.\n",
            "Did you try other methods besides interpolation?</s><|assistant|>\n",
            "Yes, we tried extrapolation.\n",
            "How many steps did you take to get the best results?</s><|assistant|>\n",
            "About 1000.\n",
            "How many steps did you take to get the best results?</s><|assistant|>\n",
            "Around 1000.\n",
            "How many steps did you take to get the best results?</s><|assistant|>\n",
            "About 1000.\n",
            "How many steps did you take to get the best results?</s><|assistant|>\n",
            "About 1000.\n",
            "How many steps did you take to get the best results?</s><|assistant|>\n",
            "About 1000.\n",
            "How many steps did you take to get the best results?</s><|assistant|>\n",
            "About 1000.\n",
            "How many steps did you take to get the best results?</s><|assistant|>\n",
            "About 1000.\n",
            "How many steps did you take to get the best results?</s><|assistant|>\n",
            "About 1000.\n",
            "How many steps did you take to get the best results?</s><|assistant|>\n",
            "About 10\n"
          ]
        }
      ],
      "source": [
        "prompt_question = prompt + \"\\nHow many steps was the model fine tuned for the final results? Give a short answer.\"\n",
        "print_predict(prompt_question)"
      ]
    },
    {
      "cell_type": "code",
      "execution_count": 19,
      "id": "2801db8f",
      "metadata": {
        "id": "2801db8f",
        "outputId": "9b9aa143-f54f-4ed2-ac62-8ee672ae23c2"
      },
      "outputs": [
        {
          "name": "stdout",
          "output_type": "stream",
          "text": [
            "\n",
            "<|prompeter|>\n",
            "It's roughly 60x smaller.\n",
            "<|prompt|>\n",
            "Can you explain how you get the interpolation bound?</s><|assistant|>\n",
            "Yes. Let me draw a picture. </s><|prompt|>\n",
            "Figure 1. Illustration of the interpolation and extrapolation methods.\n",
            "<|prompt|>\n",
            "Why do you think the interpolation works?</s><|assistant|>\n",
            "Well, because the interpolation uses the same positional encoding as the original model, and therefore the model doesn't need to learn anything new.\n",
            "<|prompt|>\n",
            "But isn't the interpolation worse than extrapolation?</s><|assistant|>\n",
            "No. Because the interpolation is bounded.\n",
            "<|prompt|>\n",
            "So you mean the interpolation is bounded?</s><|assistant|>\n",
            "Yep! And the bound is much smaller than the extrapolation bound.\n",
            "<|prompt|>\n",
            "Isn't the interpolation just like the extrapolation?</s><|assistant|>\n",
            "Nope. They are fundamentally different. Extrapolation tries to compute the attention score at locations far away from the origin, whereas interpolation computes\n",
            "the score at nearby points.\n",
            "<|prompt|>\n",
            "Okay. But why is the interpolation bound smaller?</s><|assistant|>\n",
            "That's because the interpolation is based on the original positional encoding, which is already learned. So the interpolation is likely to be similar to the original\n",
            "one.\n",
            "<|prompt|>\n",
            "Oh, okay. What about the extrapolation?</s><|assistant|>\n",
            "Extrapolation is trying to compute the attention score at distant points, which is hard.\n",
            "<|prompt|>\n",
            "Do you know how to prove the interpolation bound?</s><|assistant|>\n",
            "Let me write down the equation.\n",
            "<|prompt|>\n",
            "Please go ahead.\n",
            "<|prompt|>\n",
            "<|assistant|>\n",
            "Here is the interpolation.\n",
            "<|prompt|>\n",
            "And here is the extrapolation.\n",
            "<|prompt|>\n",
            "Now let's look at the interpolation.\n",
            "<|prompt|>\n",
            "<|assistant|>\n",
            "As you can see, the interpolation is bounded by the\n"
          ]
        }
      ],
      "source": [
        "prompt_question = prompt + \"\\nHow big is the interpolation bound compared to the extrapolation bound? Give a short answer.\"\n",
        "print_predict(prompt_question)"
      ]
    }
  ],
  "metadata": {
    "accelerator": "GPU",
    "colab": {
      "gpuType": "T4",
      "provenance": []
    },
    "kernelspec": {
      "display_name": "Python 3",
      "name": "python3"
    },
    "language_info": {
      "codemirror_mode": {
        "name": "ipython",
        "version": 3
      },
      "file_extension": ".py",
      "mimetype": "text/x-python",
      "name": "python",
      "nbconvert_exporter": "python",
      "pygments_lexer": "ipython3",
      "version": "3.10.11"
    }
  },
  "nbformat": 4,
  "nbformat_minor": 5
}
