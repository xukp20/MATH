{
 "cells": [
  {
   "cell_type": "code",
   "execution_count": 1,
   "metadata": {},
   "outputs": [],
   "source": [
    "import os\n",
    "# use pdftoppm command to convert pdf to image\n",
    "\n",
    "def pdf2image(pdf_path, save_path, start, end):\n",
    "    \"\"\"\n",
    "        Convert from pdf to image, start and end are page number\n",
    "    \"\"\"\n",
    "    if not os.path.exists(save_path):\n",
    "        os.makedirs(save_path)\n",
    "    else:\n",
    "        # remove\n",
    "        for file in os.listdir(save_path):\n",
    "            os.remove(os.path.join(save_path, file))\n",
    "\n",
    "    filename = os.path.basename(pdf_path).split(\".\")[0]\n",
    "    save_image = os.path.join(save_path, filename)\n",
    "    cmd = \"pdftoppm -png -f {} -l {} \\\"{}\\\" \\\"{}\\\" > /dev/null 2>&1\".format(start, end, pdf_path, save_image)\n",
    "    os.system(cmd)\n"
   ]
  },
  {
   "cell_type": "code",
   "execution_count": 2,
   "metadata": {},
   "outputs": [],
   "source": [
    "def show_images(image_path):\n",
    "    \"\"\"\n",
    "        Show images in image_path inline\n",
    "    \"\"\"\n",
    "    from PIL import Image\n",
    "    import matplotlib.pyplot as plt\n",
    "    from IPython.display import display\n",
    "\n",
    "    # Load the images\n",
    "    image_paths = [os.path.join(image_path, path) for path in os.listdir(image_path)]\n",
    "    images = [Image.open(path) for path in image_paths]\n",
    "\n",
    "    # Create a row of subplots\n",
    "    fig, axes = plt.subplots(1, len(images), figsize=(15, 5))\n",
    "\n",
    "    # Display each image in a subplot\n",
    "    for i, ax in enumerate(axes):\n",
    "        ax.imshow(images[i])\n",
    "        ax.axis('off')\n",
    "\n",
    "    # Show the row of images\n",
    "    plt.show()\n"
   ]
  },
  {
   "cell_type": "code",
   "execution_count": 10,
   "metadata": {},
   "outputs": [],
   "source": [
    "# show drop down list and choose to get the results\n",
    "# math: unknown/yes/no\n",
    "# field: unknown/algebra/calculus/geometry/statistics/trigonometry\n",
    "# level: unknown/yes/no\n",
    "# type: unknown/competition/exam/textbook/workbook\n",
    "\n",
    "\n",
    "class Info:\n",
    "    def __init__(self) -> None:\n",
    "        self.math = 'unknown'\n",
    "        self.field = 'unknown'\n",
    "        self.level = 'unknown'\n",
    "        self.type = 'unknown'\n",
    "        self.clear = 'unknown'\n",
    "    \n",
    "    def dict(self):\n",
    "        return {\n",
    "            'math': self.math,\n",
    "            'field': self.field,\n",
    "            'level': self.level,\n",
    "            'type': self.type,\n",
    "            'clear': self.clear,\n",
    "        }\n",
    "\n",
    "from ipywidgets import interact, Dropdown, Button, Output, VBox, Image\n",
    "from IPython.display import clear_output\n",
    "\n",
    "def get_dropdown(options,desp):\n",
    "    \"\"\"\n",
    "        Get results from the drop down list\n",
    "    \"\"\"\n",
    "\n",
    "    # Define a dropdown widget\n",
    "    dropdown = Dropdown(\n",
    "        options=options,\n",
    "        value='unknown',\n",
    "        description=desp,\n",
    "        disabled=False,\n",
    "    )\n",
    "\n",
    "    return dropdown\n"
   ]
  },
  {
   "cell_type": "code",
   "execution_count": 4,
   "metadata": {},
   "outputs": [],
   "source": [
    "def convert_and_open(base_path, pdf_name, tmp_path):\n",
    "    \"\"\"\n",
    "        Convert pdf to image and open it\n",
    "    \"\"\"\n",
    "    from PIL import Image\n",
    "    pdf_path = os.path.join(base_path, pdf_name)\n",
    "    image_path = tmp_path\n",
    "    print(\"\\rconverting {}\".format(pdf_name))\n",
    "    pdf2image(pdf_path, image_path, 20, 23)\n",
    "    print(\"\\rdone\")\n",
    "\n",
    "    # open all images\n",
    "    return [Image.open(os.path.join(image_path, path)) for path in os.listdir(image_path)]"
   ]
  },
  {
   "cell_type": "code",
   "execution_count": 13,
   "metadata": {},
   "outputs": [
    {
     "name": "stdout",
     "output_type": "stream",
     "text": [
      "converting libgen/act_math/Cynthia Johnson - 500 ACT Math Questions to Know by Test Day-McGraw-Hill Education (2013).pdf\n",
      "done\n"
     ]
    },
    {
     "data": {
      "text/plain": [
       "0"
      ]
     },
     "metadata": {},
     "output_type": "display_data"
    },
    {
     "data": {
      "application/vnd.jupyter.widget-view+json": {
       "model_id": "d2b0de5321d8410ebeb4e5bd1cfe7f6e",
       "version_major": 2,
       "version_minor": 0
      },
      "text/plain": [
       "HBox(children=(Image(value=b'\\x89PNG\\r\\n\\x1a\\n\\x00\\x00\\x00\\rIHDR\\x00\\x00\\x04\\x0e\\x00\\x00\\x05\\xd0\\x08\\x02\\x00\\x…"
      ]
     },
     "metadata": {},
     "output_type": "display_data"
    },
    {
     "data": {
      "application/vnd.jupyter.widget-view+json": {
       "model_id": "8d246cd286fd45f7be20edf7560b7db0",
       "version_major": 2,
       "version_minor": 0
      },
      "text/plain": [
       "VBox(children=(Dropdown(description='math', options=('unknown', 'yes', 'no'), value='unknown'), Dropdown(descr…"
      ]
     },
     "metadata": {},
     "output_type": "display_data"
    }
   ],
   "source": [
    "from ipywidgets import HBox\n",
    "\n",
    "infos = []\n",
    "file_id = 0\n",
    "\n",
    "import json, os\n",
    "if os.path.exists('man_index.json'):\n",
    "    with open('man_index.json', 'r', encoding='utf-8') as f:\n",
    "        infos = json.load(f)\n",
    "        file_id = len(infos)\n",
    "\n",
    "def main():\n",
    "    # get the available files from recheck_index.json\n",
    "    import json\n",
    "    with open(\"recheck_index.json\", \"r\", encoding=\"utf-8\") as json_file:\n",
    "        pdf_files_list = json.load(json_file)\n",
    "    # get the pdf files path that are not removed and is marked math\n",
    "    pdf_files_list = [pdf_file[\"path\"] for pdf_file in pdf_files_list if not pdf_file[\"clean\"][\"rm\"] and pdf_file[\"mark\"][\"math\"] == \"yes\"]\n",
    "\n",
    "    # save to /data/xukp/tmp\n",
    "    base_path = \"/data/xukp\"\n",
    "    save_path = \"/data/xukp/tmp\"\n",
    "\n",
    "    # convert pdf to image, show and mark\n",
    "    # first\n",
    "    global file_id\n",
    "    pdf_name = pdf_files_list[file_id]\n",
    "    images = convert_and_open(base_path, pdf_name, save_path)\n",
    "    # use hbox to show\n",
    "    from ipywidgets import Image\n",
    "    display(file_id)\n",
    "    hbox = HBox([Image(value=image._repr_png_(), format='png', width=500, height=500) for image in images])\n",
    "    display(hbox)\n",
    "    math_dropdown = get_dropdown(['unknown','yes','no'],'math')\n",
    "    field_dropdown = get_dropdown(['unknown','algebra','calculus','geometry','statistics','trigonometry'],'field')\n",
    "    level_dropdown = get_dropdown(['unknown','yes','no'],'level')\n",
    "    type_dropdown = get_dropdown(['unknown','competition','exam','textbook','workbook'],'type')\n",
    "    clear_dropdown = get_dropdown(['unknown','yes','no'],'clear')\n",
    "\n",
    "    info = Info()\n",
    "\n",
    "    output = Output()\n",
    "\n",
    "    button = Button(\n",
    "        description='OK',\n",
    "        disabled=False,\n",
    "        button_style='', # 'success', 'info', 'warning', 'danger' or ''\n",
    "        tooltip='Click me',\n",
    "        icon='check' # (FontAwesome names without the `fa-` prefix)\n",
    "    )\n",
    "\n",
    "    def on_button_clicked(b):\n",
    "        # Display the message within the output widget.\n",
    "        with output:\n",
    "            global file_id\n",
    "            info.math = math_dropdown.value\n",
    "            info.field = field_dropdown.value\n",
    "            info.level = level_dropdown.value\n",
    "            info.type = type_dropdown.value\n",
    "            info.clear = clear_dropdown.value\n",
    "            clear_output(wait=True)\n",
    "            infos.append(info.dict().copy())\n",
    "            infos[-1]['path'] = pdf_files_list[file_id]\n",
    "            # save to man_index.json\n",
    "            with open(\"man_index.json\", \"w\", encoding=\"utf-8\") as json_file:\n",
    "                json.dump(infos, json_file, indent=4, ensure_ascii=False)\n",
    "            # to next pdf\n",
    "            file_id = file_id + 1\n",
    "            if file_id < len(pdf_files_list):\n",
    "                pdf_name = pdf_files_list[file_id]\n",
    "                images = convert_and_open(base_path, pdf_name, save_path)\n",
    "                # use hbox to show\n",
    "                display(file_id)\n",
    "                display(HBox([Image(value=image._repr_png_(), format='png', width=500, height=500) for image in images]))\n",
    "                math_dropdown.value = 'yes'\n",
    "                field_dropdown.value = 'unknown'\n",
    "                level_dropdown.value = 'unknown'\n",
    "                type_dropdown.value = 'unknown'\n",
    "                clear_dropdown.value = 'yes'\n",
    "            else:\n",
    "                print(\"All done!\")\n",
    "                print(infos)\n",
    "\n",
    "\n",
    "    button.on_click(on_button_clicked)\n",
    "\n",
    "    display(VBox([math_dropdown, field_dropdown, level_dropdown, type_dropdown, clear_dropdown, button, output]))\n",
    "\n",
    "main()        "
   ]
  }
 ],
 "metadata": {
  "kernelspec": {
   "display_name": "base",
   "language": "python",
   "name": "python3"
  },
  "language_info": {
   "codemirror_mode": {
    "name": "ipython",
    "version": 3
   },
   "file_extension": ".py",
   "mimetype": "text/x-python",
   "name": "python",
   "nbconvert_exporter": "python",
   "pygments_lexer": "ipython3",
   "version": "3.10.9"
  },
  "orig_nbformat": 4
 },
 "nbformat": 4,
 "nbformat_minor": 2
}
